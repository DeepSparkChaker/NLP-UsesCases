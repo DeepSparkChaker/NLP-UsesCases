{
 "cells": [
  {
   "cell_type": "markdown",
   "metadata": {},
   "source": [
    "# NLP: pipeline\n",
    "- https://medium.com/@haataa/nlp-pipeline-101-with-basic-code-example-cleaning-aeb23370a12\n",
    "- https://medium.com/voice-tech-podcast/nlp-pipeline-101-with-basic-code-example-feature-extraction-ea9894ed8daf\n",
    "- https://www.kdnuggets.com/2018/08/practitioners-guide-processing-understanding-text-2.html\n",
    "- https://www.analyticsvidhya.com/blog/2017/01/ultimate-guide-to-understand-implement-natural-language-processing-codes-in-python/\n",
    "- https://www.kaggle.com/reiinakano/basic-nlp-bag-of-words-tf-idf-word2vec-lstm\n",
    "- https://www.oreilly.com/library/view/applied-text-analysis/9781491963036/ch04.html\n",
    "- https://machinelearningmastery.com/use-word-embedding-layers-deep-learning-keras/\n",
    "- https://medium.com/analytics-vidhya/nlp-preprocessing-pipeline-what-when-why-2fc808899d1f\n",
    "- https://www.analyticsvidhya.com/blog/2017/07/30-questions-test-data-scientist-natural-language-processing-solution-skilltest-nlp/\n"
   ]
  },
  {
   "cell_type": "code",
   "execution_count": null,
   "metadata": {},
   "outputs": [],
   "source": [
    "# Introduction to Word Embedding and Word2Vec\n",
    "List of links to have a general review of Word Embedding \n",
    "https://ruder.io/word-embeddings-1/index.html, deep math \n",
    "http://web.stanford.edu/class/cs224n/\n",
    "http://mccormickml.com/2016/04/19/word2vec-tutorial-the-skip-gram-model/\n",
    "https://medium.com/analytics-vidhya/maths-behind-word2vec-explained-38d74f32726b\n",
    "https://github.com/Prakashvanapalli/TensorFlow/blob/master/Blogposts/Backpropogation_with_Images.ipynb\n",
    "https://towardsdatascience.com/introduction-to-word-embedding-and-word2vec-652d0c2060fa \n",
    "https://www.knime.com/blog/word-embedding-word2vec-explained\n",
    "https://d2l.ai/chapter_natural-language-processing/word2vec.html , best one\n",
    "https://machinelearningmastery.com/what-are-word-embeddings/, so important \n",
    "https://github.com/jhlau/doc2vec, best2\n",
    "https://github.com/shreyans29/thesemicolon, best3\n",
    "https://www.youtube.com/watch?v=UqRCEmrv1gQ\n",
    "https://www.youtube.com/watch?v=QyrUentbkvw , soo important "
   ]
  }
 ],
 "metadata": {
  "kernelspec": {
   "display_name": "Python 3",
   "language": "python",
   "name": "python3"
  },
  "language_info": {
   "codemirror_mode": {
    "name": "ipython",
    "version": 3
   },
   "file_extension": ".py",
   "mimetype": "text/x-python",
   "name": "python",
   "nbconvert_exporter": "python",
   "pygments_lexer": "ipython3",
   "version": "3.7.6"
  }
 },
 "nbformat": 4,
 "nbformat_minor": 2
}
