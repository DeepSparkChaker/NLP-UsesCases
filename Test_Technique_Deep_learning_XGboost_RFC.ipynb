{
 "cells": [
  {
   "cell_type": "markdown",
   "metadata": {},
   "source": [
    "# Import libraries and modules."
   ]
  },
  {
   "cell_type": "code",
   "execution_count": 1,
   "metadata": {},
   "outputs": [
    {
     "name": "stdout",
     "output_type": "stream",
     "text": [
      "TensorFlow version:  2.2.0\n"
     ]
    }
   ],
   "source": [
    "# DataFrame\n",
    "import pandas as pd\n",
    "\n",
    "# Matplot\n",
    "import matplotlib.pyplot as plt\n",
    "%matplotlib inline\n",
    "\n",
    "# Scikit-learn\n",
    "from sklearn.model_selection import train_test_split\n",
    "from sklearn.preprocessing import LabelEncoder\n",
    "from sklearn.metrics import confusion_matrix, classification_report, accuracy_score\n",
    "from sklearn.manifold import TSNE\n",
    "from sklearn.feature_extraction.text import TfidfVectorizer\n",
    "# Summary\n",
    "from sklearn import datasets\n",
    "\n",
    "from sklearn.neighbors import KNeighborsClassifier\n",
    "\n",
    "from sklearn.linear_model import LinearRegression\n",
    "from sklearn.linear_model import LogisticRegression\n",
    "from sklearn.linear_model import Ridge\n",
    "from sklearn.linear_model import Lasso\n",
    "from sklearn.linear_model import ElasticNet\n",
    "\n",
    "from sklearn.metrics import mean_squared_error\n",
    "from sklearn.metrics import classification_report\n",
    "from sklearn.metrics import confusion_matrix\n",
    "from sklearn.metrics import roc_curve\n",
    "from sklearn.metrics import roc_auc_score\n",
    "\n",
    "from sklearn.model_selection import train_test_split\n",
    "from sklearn.model_selection import cross_val_score\n",
    "from sklearn.model_selection import GridSearchCV\n",
    "from sklearn.model_selection import RandomizedSearchCV\n",
    "\n",
    "from sklearn.tree import DecisionTreeClassifier\n",
    "from sklearn.svm import SVC\n",
    "\n",
    "# from sklearn.preprocessing import Imputer\n",
    "from sklearn.preprocessing import scale\n",
    "from sklearn.preprocessing import StandardScaler\n",
    "\n",
    "from sklearn.pipeline import Pipeline\n",
    "\n",
    "from scipy.stats import randint\n",
    "\n",
    "# tensor-Keras\n",
    "import tensorflow as tf \n",
    "from tensorflow.keras.preprocessing.text import Tokenizer\n",
    "from tensorflow.keras.preprocessing.sequence import pad_sequences\n",
    "from tensorflow.keras.models import Sequential\n",
    "from tensorflow.keras.layers import Activation, Dense, Dropout, Embedding, Flatten, Conv1D, MaxPooling1D, LSTM\n",
    "from tensorflow.keras import utils\n",
    "from tensorflow.keras.callbacks import ReduceLROnPlateau, EarlyStopping\n",
    "\n",
    "# nltk\n",
    "import nltk\n",
    "from nltk.corpus import stopwords\n",
    "from  nltk.stem import SnowballStemmer\n",
    "\n",
    "# Word2vec\n",
    "import gensim\n",
    "\n",
    "# Utility\n",
    "import re\n",
    "import numpy as np\n",
    "import os\n",
    "from collections import Counter\n",
    "import logging\n",
    "import time\n",
    "import pickle\n",
    "import itertools\n",
    "\n",
    "\n",
    "\n",
    "import warnings\n",
    "import scipy.io\n",
    "print(\"TensorFlow version: \", tf.__version__)\n",
    "\n",
    "warnings.filterwarnings('ignore')"
   ]
  },
  {
   "cell_type": "markdown",
   "metadata": {},
   "source": [
    "# load Data"
   ]
  },
  {
   "cell_type": "code",
   "execution_count": 2,
   "metadata": {},
   "outputs": [
    {
     "data": {
      "text/html": [
       "<div>\n",
       "<style scoped>\n",
       "    .dataframe tbody tr th:only-of-type {\n",
       "        vertical-align: middle;\n",
       "    }\n",
       "\n",
       "    .dataframe tbody tr th {\n",
       "        vertical-align: top;\n",
       "    }\n",
       "\n",
       "    .dataframe thead th {\n",
       "        text-align: right;\n",
       "    }\n",
       "</style>\n",
       "<table border=\"1\" class=\"dataframe\">\n",
       "  <thead>\n",
       "    <tr style=\"text-align: right;\">\n",
       "      <th></th>\n",
       "      <th>sentiment</th>\n",
       "      <th>tweets</th>\n",
       "    </tr>\n",
       "  </thead>\n",
       "  <tbody>\n",
       "    <tr>\n",
       "      <th>0</th>\n",
       "      <td>positive</td>\n",
       "      <td>Gas by my house hit $3.39!!!! I'm going to Ch...</td>\n",
       "    </tr>\n",
       "    <tr>\n",
       "      <th>1</th>\n",
       "      <td>negative</td>\n",
       "      <td>Theo Walcott is still shit, watch Rafa and Jo...</td>\n",
       "    </tr>\n",
       "    <tr>\n",
       "      <th>2</th>\n",
       "      <td>negative</td>\n",
       "      <td>its not that I'm a GSP fan, i just hate Nick ...</td>\n",
       "    </tr>\n",
       "  </tbody>\n",
       "</table>\n",
       "</div>"
      ],
      "text/plain": [
       "  sentiment                                             tweets\n",
       "0  positive   Gas by my house hit $3.39!!!! I'm going to Ch...\n",
       "1  negative   Theo Walcott is still shit, watch Rafa and Jo...\n",
       "2  negative   its not that I'm a GSP fan, i just hate Nick ..."
      ]
     },
     "execution_count": 2,
     "metadata": {},
     "output_type": "execute_result"
    }
   ],
   "source": [
    "# import data \n",
    "tweets_train= pd.read_table('C:/Users/rzouga/Downloads/Github/NLP/train_tweets.txt', '\\t',header=None)\n",
    "tweets_train = tweets_train[0].str.split(\",\", n = 1, expand = True) \n",
    "tweets_train.columns = [\"sentiment\", \"tweets\"]\n",
    "tweets_test =pd.read_table('C:/Users/rzouga/Downloads/Github/NLP/test_tweets.txt', '\\t',header=None)\n",
    "tweets_test = tweets_test[0].str.split(\",\", n = 1, expand = True) \n",
    "tweets_test.columns = [\"sentiment\", \"tweets\"]\n",
    "# Print the head of df\n",
    "tweets_train.head(3)"
   ]
  },
  {
   "cell_type": "markdown",
   "metadata": {},
   "source": [
    "# Clean Data"
   ]
  },
  {
   "cell_type": "code",
   "execution_count": 3,
   "metadata": {},
   "outputs": [
    {
     "data": {
      "text/html": [
       "<div>\n",
       "<style scoped>\n",
       "    .dataframe tbody tr th:only-of-type {\n",
       "        vertical-align: middle;\n",
       "    }\n",
       "\n",
       "    .dataframe tbody tr th {\n",
       "        vertical-align: top;\n",
       "    }\n",
       "\n",
       "    .dataframe thead th {\n",
       "        text-align: right;\n",
       "    }\n",
       "</style>\n",
       "<table border=\"1\" class=\"dataframe\">\n",
       "  <thead>\n",
       "    <tr style=\"text-align: right;\">\n",
       "      <th></th>\n",
       "      <th>sentiment</th>\n",
       "      <th>tweets</th>\n",
       "    </tr>\n",
       "  </thead>\n",
       "  <tbody>\n",
       "    <tr>\n",
       "      <th>0</th>\n",
       "      <td>neutral</td>\n",
       "      <td>Won the match #getin . Plus, tomorrow is a ve...</td>\n",
       "    </tr>\n",
       "    <tr>\n",
       "      <th>1</th>\n",
       "      <td>neutral</td>\n",
       "      <td>Did y'all hear what Tony Romo dressed up as f...</td>\n",
       "    </tr>\n",
       "    <tr>\n",
       "      <th>2</th>\n",
       "      <td>positive</td>\n",
       "      <td>Lunch from my new Lil spot ...THE COTTON BOWL...</td>\n",
       "    </tr>\n",
       "    <tr>\n",
       "      <th>3</th>\n",
       "      <td>positive</td>\n",
       "      <td>SNC Halloween Pr. Pumped. Let's work it for S...</td>\n",
       "    </tr>\n",
       "    <tr>\n",
       "      <th>4</th>\n",
       "      <td>neutral</td>\n",
       "      <td>Manchester United will try to return to winni...</td>\n",
       "    </tr>\n",
       "    <tr>\n",
       "      <th>...</th>\n",
       "      <td>...</td>\n",
       "      <td>...</td>\n",
       "    </tr>\n",
       "    <tr>\n",
       "      <th>1039</th>\n",
       "      <td>neutral</td>\n",
       "      <td>#WEB YouTube improves upload process with opt...</td>\n",
       "    </tr>\n",
       "    <tr>\n",
       "      <th>1040</th>\n",
       "      <td>positive</td>\n",
       "      <td>Gonna change my Tumblr theme. I hope I can fi...</td>\n",
       "    </tr>\n",
       "    <tr>\n",
       "      <th>1041</th>\n",
       "      <td>neutral</td>\n",
       "      <td>I'm so jealous of everyone at the Justin Bieb...</td>\n",
       "    </tr>\n",
       "    <tr>\n",
       "      <th>1042</th>\n",
       "      <td>neutral</td>\n",
       "      <td>Jim Harbaugh, Alex Smith Drive Giants World S...</td>\n",
       "    </tr>\n",
       "    <tr>\n",
       "      <th>1043</th>\n",
       "      <td>neutral</td>\n",
       "      <td>#Trending: Tim Tebow is now dating cave woman...</td>\n",
       "    </tr>\n",
       "  </tbody>\n",
       "</table>\n",
       "<p>1042 rows × 2 columns</p>\n",
       "</div>"
      ],
      "text/plain": [
       "     sentiment                                             tweets\n",
       "0      neutral   Won the match #getin . Plus, tomorrow is a ve...\n",
       "1      neutral   Did y'all hear what Tony Romo dressed up as f...\n",
       "2     positive   Lunch from my new Lil spot ...THE COTTON BOWL...\n",
       "3     positive   SNC Halloween Pr. Pumped. Let's work it for S...\n",
       "4      neutral   Manchester United will try to return to winni...\n",
       "...        ...                                                ...\n",
       "1039   neutral   #WEB YouTube improves upload process with opt...\n",
       "1040  positive   Gonna change my Tumblr theme. I hope I can fi...\n",
       "1041   neutral   I'm so jealous of everyone at the Justin Bieb...\n",
       "1042   neutral   Jim Harbaugh, Alex Smith Drive Giants World S...\n",
       "1043   neutral   #Trending: Tim Tebow is now dating cave woman...\n",
       "\n",
       "[1042 rows x 2 columns]"
      ]
     },
     "execution_count": 3,
     "metadata": {},
     "output_type": "execute_result"
    }
   ],
   "source": [
    "tweets_train.dropna()\n",
    "tweets_train.drop_duplicates()\n",
    "tweets_test.dropna()\n",
    "tweets_test.drop_duplicates()"
   ]
  },
  {
   "cell_type": "markdown",
   "metadata": {},
   "source": [
    "# Text Processing"
   ]
  },
  {
   "cell_type": "code",
   "execution_count": 4,
   "metadata": {},
   "outputs": [],
   "source": [
    "import re                                  # library for regular expression operations\n",
    "import string                              # for string operations\n",
    "from nltk.corpus import stopwords          # module for stop words that come with NLTK\n",
    "from nltk.stem import PorterStemmer        # module for stemming\n",
    "from nltk.tokenize import TweetTokenizer   # module for tokenizing strings\n",
    "# Spacy preporcessing \n",
    "#Stop words\n",
    "#importing stop words from English language.\n",
    "import spacy\n",
    "import string\n",
    "from spacy.lang.en.stop_words import STOP_WORDS\n",
    "from spacy.lang.en import English\n",
    "import re \n",
    "\n",
    "# Create our list of punctuation marks\n",
    "punctuations = string.punctuation\n",
    "\n",
    "# Create our list of stopwords\n",
    "nlp = spacy.load('en')\n",
    "stop_words = spacy.lang.en.stop_words.STOP_WORDS\n",
    "\n",
    "# Load English tokenizer, tagger, parser, NER and word vectors\n",
    "parser = English()\n",
    "\n",
    "# Creating our tokenizer function\n",
    "def spacy_tokenizer_cleaner(sentence):\n",
    "    cleanr = re.compile('<.*?>')\n",
    "    sentence = re.sub(cleanr, '', sentence)\n",
    "    # Normalize text\n",
    "    sentence = re.sub(r\"[^a-zA-Z0-9]\", \" \", sentence.lower())\n",
    "    # Remove urls\n",
    "    sentence = re.sub(r\"http\\S+|www\\S+|https\\S+\", '', sentence, flags=re.MULTILINE)\n",
    "    # Remove user @ references \n",
    "    sentence = re.sub(r'\\@\\w+','', sentence)\n",
    "    # remove old style retweet text \"RT\"\n",
    "    sentence= re.sub(r'^RT[\\s]+', '', sentence)\n",
    "\n",
    "    # remove hyperlinks\n",
    "    sentence = re.sub(r'https?:\\/\\/.*[\\r\\n]*', '', sentence)\n",
    "\n",
    "    # remove hashtags\n",
    "    # only removing the hash # sign from the word\n",
    "    sentence= re.sub(r'#', '',sentence)\n",
    "    # Creating our token object, which is used to create documents with linguistic annotations.\n",
    "    \n",
    "    mytokens = parser(sentence)\n",
    "\n",
    "    # Lemmatizing each token and converting each token into lowercase\n",
    "    mytokens = [ word.lemma_.lower().strip() if word.lemma_ != \"-PRON-\" else word.lower_ for word in mytokens ]\n",
    "\n",
    "    # Removing stop words\n",
    "    mytokens = [ word for word in mytokens if word not in stop_words and word not in punctuations ]\n",
    "\n",
    "    # return preprocessed list of tokens\n",
    "    return ' '.join(mytokens)\n"
   ]
  },
  {
   "cell_type": "markdown",
   "metadata": {},
   "source": [
    "# Clean our tweetes"
   ]
  },
  {
   "cell_type": "code",
   "execution_count": 5,
   "metadata": {},
   "outputs": [],
   "source": [
    "tweets_train['tweets_cleaned'] = tweets_train.tweets.apply(spacy_tokenizer_cleaner)\n",
    "tweets_test['tweets_cleaned'] = tweets_test.tweets.apply(spacy_tokenizer_cleaner)\n"
   ]
  },
  {
   "cell_type": "code",
   "execution_count": 6,
   "metadata": {},
   "outputs": [
    {
     "data": {
      "image/png": "[encoded data removed]",
      "text/plain": [
       "<Figure size 432x288 with 1 Axes>"
      ]
     },
     "metadata": {
      "needs_background": "light"
     },
     "output_type": "display_data"
    }
   ],
   "source": [
    "# Import the word cloud function  \n",
    " \n",
    "from wordcloud import WordCloud, STOPWORDS\n",
    "# Create and generate a word cloud image \n",
    "my_cloud =  WordCloud(background_color='white', stopwords=STOPWORDS).generate(str(tweets_train['tweets_cleaned']))\n",
    "\n",
    "# Display the generated wordcloud image\n",
    "plt.imshow(my_cloud, interpolation='bilinear') \n",
    "plt.axis(\"off\")\n",
    "# Don't forget to show the final image\n",
    "plt.show()"
   ]
  },
  {
   "cell_type": "code",
   "execution_count": 7,
   "metadata": {
    "scrolled": true
   },
   "outputs": [
    {
     "data": {
      "text/html": [
       "<div>\n",
       "<style scoped>\n",
       "    .dataframe tbody tr th:only-of-type {\n",
       "        vertical-align: middle;\n",
       "    }\n",
       "\n",
       "    .dataframe tbody tr th {\n",
       "        vertical-align: top;\n",
       "    }\n",
       "\n",
       "    .dataframe thead th {\n",
       "        text-align: right;\n",
       "    }\n",
       "</style>\n",
       "<table border=\"1\" class=\"dataframe\">\n",
       "  <thead>\n",
       "    <tr style=\"text-align: right;\">\n",
       "      <th></th>\n",
       "      <th>sentiment</th>\n",
       "      <th>tweets</th>\n",
       "      <th>tweets_cleaned</th>\n",
       "    </tr>\n",
       "  </thead>\n",
       "  <tbody>\n",
       "    <tr>\n",
       "      <th>0</th>\n",
       "      <td>positive</td>\n",
       "      <td>Gas by my house hit $3.39!!!! I'm going to Ch...</td>\n",
       "      <td>gas house hit 3 39 m going chapel hill sat</td>\n",
       "    </tr>\n",
       "    <tr>\n",
       "      <th>1</th>\n",
       "      <td>negative</td>\n",
       "      <td>Theo Walcott is still shit, watch Rafa and Jo...</td>\n",
       "      <td>theo walcott shit watch rafa johnny deal saturday</td>\n",
       "    </tr>\n",
       "    <tr>\n",
       "      <th>2</th>\n",
       "      <td>negative</td>\n",
       "      <td>its not that I'm a GSP fan, i just hate Nick ...</td>\n",
       "      <td>m gsp fan hate nick diaz t wait february</td>\n",
       "    </tr>\n",
       "    <tr>\n",
       "      <th>3</th>\n",
       "      <td>negative</td>\n",
       "      <td>Iranian general says Israel's Iron Dome can't...</td>\n",
       "      <td>iranian general says israel s iron dome t deal...</td>\n",
       "    </tr>\n",
       "    <tr>\n",
       "      <th>4</th>\n",
       "      <td>positive</td>\n",
       "      <td>with J Davlar 11th. Main rivals are team Pola...</td>\n",
       "      <td>j davlar 11th main rivals team poland hopefull...</td>\n",
       "    </tr>\n",
       "  </tbody>\n",
       "</table>\n",
       "</div>"
      ],
      "text/plain": [
       "  sentiment                                             tweets  \\\n",
       "0  positive   Gas by my house hit $3.39!!!! I'm going to Ch...   \n",
       "1  negative   Theo Walcott is still shit, watch Rafa and Jo...   \n",
       "2  negative   its not that I'm a GSP fan, i just hate Nick ...   \n",
       "3  negative   Iranian general says Israel's Iron Dome can't...   \n",
       "4  positive   with J Davlar 11th. Main rivals are team Pola...   \n",
       "\n",
       "                                      tweets_cleaned  \n",
       "0         gas house hit 3 39 m going chapel hill sat  \n",
       "1  theo walcott shit watch rafa johnny deal saturday  \n",
       "2           m gsp fan hate nick diaz t wait february  \n",
       "3  iranian general says israel s iron dome t deal...  \n",
       "4  j davlar 11th main rivals team poland hopefull...  "
      ]
     },
     "execution_count": 7,
     "metadata": {},
     "output_type": "execute_result"
    }
   ],
   "source": [
    "tweets_train.head(5)"
   ]
  },
  {
   "cell_type": "markdown",
   "metadata": {},
   "source": [
    "# I/ ML_continued :RandomForest,XGBST\n",
    "**XGBoost (eXtreme Gradient Boosting)** is an advanced implementation of gradient boosting algorithm. What differentiates it from other boosting algorithms is its speed and accuracy Extreme Gradient Boosting (XGBoost) is a more efficient version of gradient boosting framework containing both a linear model solver and tree learning algorithms."
   ]
  },
  {
   "cell_type": "code",
   "execution_count": 8,
   "metadata": {},
   "outputs": [
    {
     "name": "stdout",
     "output_type": "stream",
     "text": [
      "y_train_le (6588,)\n",
      "y_test_le (1044,)\n",
      "y_train_oh (6588, 3)\n",
      "y_test_oh (1044, 3)\n",
      "['negative' 'neutral' 'positive']\n"
     ]
    }
   ],
   "source": [
    "from sklearn.preprocessing import OneHotEncoder\n",
    "X_train= tweets_train['tweets_cleaned']# the features we want to analyze\n",
    "X_test=tweets_test['tweets_cleaned']\n",
    "y_train=tweets_train['sentiment']\n",
    "y_test =tweets_test['sentiment']\n",
    "\n",
    "#### Create the encoder.\n",
    "encoder = LabelEncoder()\n",
    "\n",
    "encoder.fit(y_train)   # Assume for simplicity all features are categorical.\n",
    "\n",
    "y_train_le = encoder.transform(y_train)\n",
    "y_test_le = encoder.transform(y_test)\n",
    "y_train_oh =tf.keras.utils.to_categorical(y_train_le)\n",
    "y_test_oh = tf.keras.utils.to_categorical(y_test_le)\n",
    "print(\"y_train_le\",y_train_le.shape)\n",
    "print(\"y_test_le\",y_test_le.shape)\n",
    "print(\"y_train_oh\",y_train_oh.shape)\n",
    "print(\"y_test_oh\",y_test_oh.shape)\n",
    "print(encoder.classes_)"
   ]
  },
  {
   "cell_type": "code",
   "execution_count": 9,
   "metadata": {
    "scrolled": true
   },
   "outputs": [
    {
     "name": "stdout",
     "output_type": "stream",
     "text": [
      "(6588, 500)\n",
      "              precision    recall  f1-score   support\n",
      "\n",
      "    negative       0.54      0.15      0.23       193\n",
      "     neutral       0.57      0.88      0.69       466\n",
      "    positive       0.75      0.52      0.61       385\n",
      "\n",
      "    accuracy                           0.61      1044\n",
      "   macro avg       0.62      0.52      0.51      1044\n",
      "weighted avg       0.63      0.61      0.58      1044\n",
      "\n"
     ]
    }
   ],
   "source": [
    "from sklearn.naive_bayes import MultinomialNB\n",
    "from sklearn.metrics import roc_auc_score\n",
    "from sklearn.metrics import classification_report\n",
    "from sklearn.model_selection import train_test_split\n",
    "from sklearn.naive_bayes import MultinomialNB\n",
    "from sklearn.pipeline import Pipeline\n",
    "from sklearn import metrics\n",
    "from sklearn.feature_extraction.text import TfidfVectorizer,CountVectorizer,ENGLISH_STOP_WORDS\n",
    "import xgboost\n",
    "\n",
    "#len_train = [len(x) for x in X_train]\n",
    "#len_test = [len(x) for x in X_test]\n",
    "#dig_train = [sum(char.isnumeric() for char in x) for x in X_train]\n",
    "#dig_test = [sum(char.isnumeric() for char in x) for x in X_test]\n",
    "    \n",
    "# Not alpha numeric:\n",
    "#nan_train = X_train.str.count('\\W')\n",
    "#nan_test = X_test.str.count('\\W')\n",
    "# tokenizer = spacy_tokenizer\n",
    "vectorizer = CountVectorizer(ngram_range=(1, 2),max_features=500).fit(X_train)\n",
    "X_train_cv =vectorizer.transform(X_train)\n",
    "X_test_cv =vectorizer.transform(X_test)\n",
    "\n",
    "def add_feature(X, feature_to_add):\n",
    "    \"\"\"\n",
    "    Returns sparse feature matrix with added feature.\n",
    "    feature_to_add can also be a list of features.\n",
    "    \"\"\"\n",
    "    from scipy.sparse import csr_matrix, hstack\n",
    "    return hstack([X, csr_matrix(feature_to_add).T], 'csr')\n",
    "#X_train_cv = add_feature(X_train_cv, [len_train, dig_train, nan_train])\n",
    "#X_test_cv = add_feature(X_test_cv, [len_test, dig_test, nan_test])\n",
    "\n",
    "\n",
    "import xgboost as xgb\n",
    "# Transform data into a matrix so that we can use XGBoost\n",
    "\n",
    "\n",
    "# Fit XGBoost\n",
    "\n",
    "XGBClassifier = xgboost.XGBClassifier(objective ='multi:softmax',\n",
    "    eval_metric ='mlogloss',\n",
    "    eta = 0.1,\n",
    "    max_depth =10,\n",
    "    num_class =3,\n",
    "    estimators = 200)\n",
    "XGBClassifier.fit(X_train_cv, y_train_le)\n",
    "\n",
    "predicted1=XGBClassifier.predict(X_test_cv)\n",
    "\n",
    "\n",
    "report = classification_report(y_test_le, predicted1,target_names=encoder.classes_)\n",
    "print(X_train_cv.shape)\n",
    "print(report)"
   ]
  },
  {
   "cell_type": "code",
   "execution_count": 10,
   "metadata": {},
   "outputs": [
    {
     "name": "stdout",
     "output_type": "stream",
     "text": [
      " Accuracy_XGBST_CV: 0.6120689655172413\n"
     ]
    }
   ],
   "source": [
    "# Model Accuracy\n",
    "print(\" Accuracy_XGBST_CV:\",metrics.accuracy_score(y_test_le, predicted1))"
   ]
  },
  {
   "cell_type": "markdown",
   "metadata": {},
   "source": [
    "# TF_IDF"
   ]
  },
  {
   "cell_type": "code",
   "execution_count": 11,
   "metadata": {
    "scrolled": true
   },
   "outputs": [
    {
     "name": "stdout",
     "output_type": "stream",
     "text": [
      "(6588, 1500)\n",
      "              precision    recall  f1-score   support\n",
      "\n",
      "    negative       0.59      0.18      0.28       193\n",
      "     neutral       0.59      0.89      0.71       466\n",
      "    positive       0.76      0.55      0.64       385\n",
      "\n",
      "    accuracy                           0.63      1044\n",
      "   macro avg       0.65      0.54      0.54      1044\n",
      "weighted avg       0.65      0.63      0.60      1044\n",
      "\n"
     ]
    }
   ],
   "source": [
    "from sklearn.feature_extraction.text import TfidfVectorizer, ENGLISH_STOP_WORDS\n",
    "from sklearn.svm import SVC\n",
    "#len_train = [len(x) for x in X_train]\n",
    "#len_test = [len(x) for x in X_test]\n",
    "#dig_train = [sum(char.isnumeric() for char in x) for x in X_train]\n",
    "#dig_test = [sum(char.isnumeric() for char in x) for x in X_test]\n",
    "    \n",
    "# Not alpha numeric:\n",
    "#nan_train = X_train.str.count('\\W')\n",
    "#nan_test = X_test.str.count('\\W')\n",
    "tfidf = TfidfVectorizer( max_features=1500).fit(X_train)\n",
    "X_train_tf = tfidf.transform(X_train)\n",
    "X_test_tf = tfidf.transform(X_test)\n",
    "#X_train_tf = add_feature(X_train_cv, [len_train, dig_train, nan_train])\n",
    "#X_test_tf = add_feature(X_test_cv, [len_test, dig_test, nan_test])\n",
    "\n",
    "XGBClassifier = xgboost.XGBClassifier(objective ='multi:softmax',\n",
    "    eval_metric ='mlogloss',\n",
    "    eta = 0.1,\n",
    "    max_depth =16,\n",
    "    num_class =3,\n",
    "    estimators = 200)\n",
    "XGBClassifier.fit(X_train_tf, y_train_le)\n",
    "\n",
    "predicted2=XGBClassifier.predict(X_test_tf)\n",
    "\n",
    "\n",
    "report = classification_report(y_test_le, predicted2,target_names=encoder.classes_)\n",
    "print(X_train_tf.shape)\n",
    "print(report)"
   ]
  },
  {
   "cell_type": "code",
   "execution_count": 12,
   "metadata": {},
   "outputs": [
    {
     "name": "stdout",
     "output_type": "stream",
     "text": [
      " Accuracy_XGBST_tf: 0.632183908045977\n"
     ]
    }
   ],
   "source": [
    "# Model Accuracy\n",
    "print(\" Accuracy_XGBST_tf:\",metrics.accuracy_score(y_test_le, predicted2))"
   ]
  },
  {
   "cell_type": "code",
   "execution_count": 13,
   "metadata": {
    "scrolled": true
   },
   "outputs": [
    {
     "name": "stdout",
     "output_type": "stream",
     "text": [
      "(6588, 1500)\n",
      "              precision    recall  f1-score   support\n",
      "\n",
      "    negative       0.56      0.23      0.33       193\n",
      "     neutral       0.61      0.85      0.71       466\n",
      "    positive       0.72      0.58      0.65       385\n",
      "\n",
      "    accuracy                           0.64      1044\n",
      "   macro avg       0.63      0.55      0.56      1044\n",
      "weighted avg       0.64      0.64      0.61      1044\n",
      "\n"
     ]
    }
   ],
   "source": [
    "from sklearn.ensemble import RandomForestClassifier as RFC\n",
    "from sklearn.feature_extraction.text import TfidfVectorizer, ENGLISH_STOP_WORDS\n",
    "from sklearn.svm import SVC\n",
    "#len_train = [len(x) for x in X_train]\n",
    "#len_test = [len(x) for x in X_test]\n",
    "#dig_train = [sum(char.isnumeric() for char in x) for x in X_train]\n",
    "#dig_test = [sum(char.isnumeric() for char in x) for x in X_test]\n",
    "    \n",
    "# Not alpha numeric:\n",
    "#nan_train = X_train.str.count('\\W')\n",
    "#nan_test = X_test.str.count('\\W')\n",
    "tfidf = TfidfVectorizer( max_features=1500).fit(X_train)\n",
    "X_train_tf = tfidf.transform(X_train)\n",
    "X_test_tf = tfidf.transform(X_test)\n",
    "#X_train_tf = add_feature(X_train_cv, [len_train, dig_train, nan_train])\n",
    "#X_test_tf = add_feature(X_test_cv, [len_test, dig_test, nan_test])\n",
    "rfc_b = RFC()\n",
    "rfc_b.fit(X_train_tf,y_train_le)\n",
    "predicted3 = rfc_b.predict(X_test_tf)\n",
    "report = classification_report(y_test_le, predicted3,target_names=encoder.classes_)\n",
    "print(X_train_tf.shape)\n",
    "print(report)"
   ]
  },
  {
   "cell_type": "code",
   "execution_count": 14,
   "metadata": {},
   "outputs": [
    {
     "name": "stdout",
     "output_type": "stream",
     "text": [
      " Accuracy_RandomForestClassifier_tf: 0.6360153256704981\n"
     ]
    }
   ],
   "source": [
    "# Model Accuracy\n",
    "print(\" Accuracy_RandomForestClassifier_tf:\",metrics.accuracy_score(y_test_le, predicted3))"
   ]
  },
  {
   "cell_type": "markdown",
   "metadata": {},
   "source": [
    "# II/ Deep Learning-Based Approaches "
   ]
  },
  {
   "cell_type": "code",
   "execution_count": 15,
   "metadata": {},
   "outputs": [
    {
     "name": "stdout",
     "output_type": "stream",
     "text": [
      "17873\n"
     ]
    }
   ],
   "source": [
    "from numpy import array\n",
    "from tensorflow.keras.preprocessing.text import one_hot\n",
    "from tensorflow.keras.preprocessing.sequence import pad_sequences\n",
    "from tensorflow.keras.models import Sequential\n",
    "from tensorflow.keras.layers import Dense,Input\n",
    "from tensorflow.keras.layers import Flatten\n",
    "from numpy import array\n",
    "import tensorflow as tf\n",
    "\n",
    "from tensorflow.keras.preprocessing.text import one_hot\n",
    "from tensorflow.keras.preprocessing.sequence import pad_sequences\n",
    "layers = tf.keras.layers\n",
    "# Import relevant classes/functions\n",
    "from tensorflow.keras.preprocessing.text import  Tokenizer\n",
    "from tensorflow.keras.preprocessing.sequence import pad_sequences\n",
    "\n",
    "# Transform the list of sentences into a list of words\n",
    "all_words = ' '.join(tweets_train['tweets_cleaned']).split(' ')\n",
    "#all_words=[w for w in DOC ]\n",
    "# Get number of unique words\n",
    "vocab_size = len(set(all_words))\n",
    "print(vocab_size)"
   ]
  },
  {
   "cell_type": "markdown",
   "metadata": {},
   "source": [
    "# Preporcess\n",
    "\n",
    "## 1-Train data"
   ]
  },
  {
   "cell_type": "code",
   "execution_count": 16,
   "metadata": {},
   "outputs": [
    {
     "name": "stdout",
     "output_type": "stream",
     "text": [
      "[2275  116  257   26 2621    4   12 1993 1084   60    0    0    0    0\n",
      "    0    0    0    0    0    0    0    0    0    0    0    0    0    0\n",
      "    0    0    0    0    0    0    0    0    0    0    0    0    0    0] [0. 0. 1.]\n",
      "17873\n",
      "42\n",
      "(6588, 42)\n",
      "(6588, 3)\n"
     ]
    }
   ],
   "source": [
    "#embeded sentences \n",
    "from tensorflow.keras.preprocessing.text import Tokenizer\n",
    "\n",
    "word_tokenizer = Tokenizer()\n",
    "word_tokenizer.fit_on_texts(X_train)\n",
    "vocab_length = len(word_tokenizer.word_index) + 1\n",
    "# Prepare the data\n",
    "embedded_train_data = word_tokenizer.texts_to_sequences(X_train)\n",
    "#padded sentences \n",
    "from nltk.tokenize import word_tokenize\n",
    "word_count = lambda sentence: len(word_tokenize(sentence))\n",
    "longest_sentence = max(X_train, key=word_count)\n",
    "length_long_sentence = len(word_tokenize(longest_sentence))\n",
    "padded_train_data= pad_sequences(embedded_train_data, length_long_sentence, padding='post')\n",
    "# Prepare the labels\n",
    "\n",
    "# Create the encoder.\n",
    "encoder = LabelEncoder()\n",
    "\n",
    "encoder.fit(y_train)   \n",
    "\n",
    "y_train_le = encoder.transform(y_train)\n",
    "y_test_le = encoder.transform(y_test)\n",
    "y_train_oh =tf.keras.utils.to_categorical(y_train_le)\n",
    "y_test_oh = tf.keras.utils.to_categorical(y_test_le)\n",
    "\n",
    "train_labels=y_train_oh \n",
    "#prep_labels = tf.keras.utils.to_categorical(tweets.sentiment)\n",
    "print(padded_train_data[0],train_labels[0])\n",
    "# Print the shapes\n",
    "print(str(vocab_length))\n",
    "print(str(length_long_sentence))\n",
    "print(padded_train_data.shape)\n",
    "print(train_labels.shape)"
   ]
  },
  {
   "cell_type": "markdown",
   "metadata": {},
   "source": [
    "## 2-Test Data"
   ]
  },
  {
   "cell_type": "code",
   "execution_count": 17,
   "metadata": {},
   "outputs": [
    {
     "name": "stdout",
     "output_type": "stream",
     "text": [
      "[  139   207   866     3  1005     6 17502     6     2  3703  3703     0\n",
      "     0     0     0     0     0     0     0     0     0     0     0     0\n",
      "     0     0     0     0     0     0     0     0     0     0     0     0\n",
      "     0     0     0     0     0     0] [0. 1. 0.]\n",
      "(1044, 42)\n",
      "(1044, 3)\n"
     ]
    }
   ],
   "source": [
    "#embeded sentences \n",
    "from tensorflow.keras.preprocessing.text import Tokenizer\n",
    "# Prepare the data\n",
    "embedded_test_data = word_tokenizer.texts_to_sequences(X_test)\n",
    "#padded sentences \n",
    "\n",
    "padded_test_data= pad_sequences(embedded_test_data, length_long_sentence, padding='post')\n",
    "# Prepare the labels\n",
    "test_labels=y_test_oh  \n",
    "#prep_labels = tf.keras.utils.to_categorical(tweets.sentiment)\n",
    "print(padded_test_data[0],test_labels[0])\n",
    "# Print the shapes\n",
    "\n",
    "\n",
    "print(padded_test_data.shape)\n",
    "print(test_labels.shape)"
   ]
  },
  {
   "cell_type": "code",
   "execution_count": 18,
   "metadata": {},
   "outputs": [],
   "source": [
    "# custumise our embeded  matrix or import GLOVE that accelearate the training process \n",
    "from numpy import array\n",
    "from numpy import asarray\n",
    "from numpy import zeros\n",
    "\n",
    "embeddings_dictionary = dict()\n",
    "glove_file = open('C:/Users/rzouga/Desktop/cv-fr-en/CV+diplome/jobopr/glove.6B/glove.6B.300d.txt', encoding=\"utf8\")\n",
    "for line in glove_file:\n",
    "    records = line.split()\n",
    "    word = records[0]\n",
    "    vector_dimensions = asarray(records[1:], dtype='float32')\n",
    "    embeddings_dictionary [word] = vector_dimensions\n",
    " # embeddings_dictionary now contains words and corresponding GloVe embeddings for all the words.   \n",
    "\n",
    "glove_file.close()"
   ]
  },
  {
   "cell_type": "markdown",
   "metadata": {},
   "source": [
    "## 3-Train_Test_Split"
   ]
  },
  {
   "cell_type": "code",
   "execution_count": 19,
   "metadata": {},
   "outputs": [
    {
     "name": "stdout",
     "output_type": "stream",
     "text": [
      "(6588, 42) (1044, 42)\n",
      "(6588, 3) (1044, 3)\n"
     ]
    }
   ],
   "source": [
    "X_train_dl= padded_train_data # the features we want to analyze\n",
    "X_test_dl=padded_test_data\n",
    "y_train_dl=train_labels\n",
    "y_test_dl =test_labels\n",
    "print(X_train_dl.shape , X_test_dl.shape)\n",
    "print(y_train_dl.shape,y_test_dl.shape)"
   ]
  },
  {
   "cell_type": "markdown",
   "metadata": {},
   "source": [
    "# Transfer learing \n",
    "Transfer learning provides a initial knowledge of the meaning of the words, and you can see that the model that used pre-trained embeddings started with higher accuracy. Of course, the model without transfer learning is learning directly from the corpus and is more specialized on the vocabulary present in the corpus, while the word embeddings used from transfer learning are more generic. By training the embeddings directly on the corpus, the model can be even better than the one initialized with the weights from transfer learning, but in many cases the computer power to train embeddings in a very big dataset is prohibitive.\n",
    "\n",
    "The pre-trained vectors used were the GloVE with 300 dimension"
   ]
  },
  {
   "cell_type": "code",
   "execution_count": 20,
   "metadata": {},
   "outputs": [],
   "source": [
    "embedding_matrix = zeros((vocab_length, 300))\n",
    "for word, index in word_tokenizer.word_index.items():\n",
    "    embedding_vector = embeddings_dictionary.get(word)\n",
    "    if embedding_vector is not None:\n",
    "        embedding_matrix[index] = embedding_vector\n",
    "#embedding_matrix now contains pretrained word embeddings for the words in our corpus."
   ]
  },
  {
   "cell_type": "markdown",
   "metadata": {},
   "source": [
    "# Modeling \n",
    "## 1-Simple RNN "
   ]
  },
  {
   "cell_type": "code",
   "execution_count": 21,
   "metadata": {},
   "outputs": [],
   "source": [
    "from tensorflow.keras.layers import Embedding\n",
    "from tensorflow.keras.layers import Dense, Input\n",
    "from tensorflow.keras.layers import Conv1D, MaxPooling1D, Embedding\n",
    "from tensorflow.keras.models import Model\n",
    "from tensorflow.keras.layers import Dense, Activation, Multiply, Add, LSTM, LeakyReLU\n",
    "from tensorflow.keras.layers import Input, Dense, Dropout\n",
    "from tensorflow.keras.optimizers import Adam\n",
    "from tensorflow.keras.regularizers import l2\n",
    "from tensorflow.keras.callbacks import EarlyStopping, ModelCheckpoint"
   ]
  },
  {
   "cell_type": "code",
   "execution_count": 22,
   "metadata": {},
   "outputs": [],
   "source": [
    "# Build and compile the model\n",
    "wordvec_dim=300\n",
    "model_RNN = tf.keras.Sequential(name='model_RNN')\n",
    "model_RNN.add(layers.Embedding(vocab_length, output_dim=wordvec_dim, weights=[embedding_matrix], input_length=length_long_sentence, trainable=False))\n",
    "model_RNN.add(LSTM(128, return_sequences=True, dropout=0.1, recurrent_dropout=0.1))\n",
    "model_RNN.add(LSTM(128, return_sequences=False, dropout=0.1, recurrent_dropout=0.1))\n",
    "model_RNN.add(Dense(16))\n",
    "model_RNN.add(Dropout(rate=0.2))\n",
    "model_RNN.add(Dense(3, activation='softmax'))\n",
    "model_RNN.compile(loss='categorical_crossentropy', optimizer='adam', metrics=['accuracy'])"
   ]
  },
  {
   "cell_type": "code",
   "execution_count": 23,
   "metadata": {},
   "outputs": [
    {
     "data": {
      "image/png": "[encoded data removed]",
      "text/plain": [
       "<IPython.core.display.Image object>"
      ]
     },
     "execution_count": 23,
     "metadata": {},
     "output_type": "execute_result"
    }
   ],
   "source": [
    "# plot graph\n",
    "import graphviz\n",
    "import pydot\n",
    "import os     \n",
    "os.environ[\"PATH\"] += os.pathsep + 'C:/Users/rzouga/Anaconda3/Library/bin/graphviz'\n",
    "tf.keras.utils.plot_model(model_RNN, to_file='multilayer_perceptron_graph.png')"
   ]
  },
  {
   "cell_type": "code",
   "execution_count": 24,
   "metadata": {
    "scrolled": true
   },
   "outputs": [
    {
     "name": "stdout",
     "output_type": "stream",
     "text": [
      "Model: \"model_RNN\"\n",
      "_________________________________________________________________\n",
      "Layer (type)                 Output Shape              Param #   \n",
      "=================================================================\n",
      "embedding (Embedding)        (None, 42, 300)           5361900   \n",
      "_________________________________________________________________\n",
      "lstm (LSTM)                  (None, 42, 128)           219648    \n",
      "_________________________________________________________________\n",
      "lstm_1 (LSTM)                (None, 128)               131584    \n",
      "_________________________________________________________________\n",
      "dense (Dense)                (None, 16)                2064      \n",
      "_________________________________________________________________\n",
      "dropout (Dropout)            (None, 16)                0         \n",
      "_________________________________________________________________\n",
      "dense_1 (Dense)              (None, 3)                 51        \n",
      "=================================================================\n",
      "Total params: 5,715,247\n",
      "Trainable params: 353,347\n",
      "Non-trainable params: 5,361,900\n",
      "_________________________________________________________________\n",
      "None\n"
     ]
    }
   ],
   "source": [
    "print(model_RNN.summary())"
   ]
  },
  {
   "cell_type": "markdown",
   "metadata": {},
   "source": [
    "# Fit the Model\n",
    "**min_delta** : minimum change in the monitored quantity to qualify as an improvement, i.e. an absolute change of less than min_delta, will count as no improvement.\n",
    "\n",
    "**patience** : number of epochs with no improvement after which training will be stopped.\n"
   ]
  },
  {
   "cell_type": "code",
   "execution_count": 25,
   "metadata": {},
   "outputs": [],
   "source": [
    "# configure early stopping\n",
    "es = EarlyStopping(monitor='loss',min_delta=0.00000000000000001, patience=10)\n",
    "history_model_RNN =model_RNN.fit(X_train_dl, y_train_dl, batch_size=64, epochs=1000, verbose=0,callbacks=[es],validation_split=0.05)"
   ]
  },
  {
   "cell_type": "code",
   "execution_count": 26,
   "metadata": {
    "scrolled": false
   },
   "outputs": [
    {
     "name": "stdout",
     "output_type": "stream",
     "text": [
      "Accuracy_RNN_model: 64.750957\n",
      "loss_RNN_model: 246.974587\n"
     ]
    },
    {
     "data": {
      "image/png": "[encoded data removed]",
      "text/plain": [
       "<Figure size 864x360 with 2 Axes>"
      ]
     },
     "metadata": {},
     "output_type": "display_data"
    }
   ],
   "source": [
    "loss_RNN, accuracy_RNN = model_RNN.evaluate( X_test_dl, y_test_dl, verbose=0)\n",
    "import matplotlib.pyplot as plt\n",
    "plt.style.use('ggplot')\n",
    "\n",
    "def plot_history(history):\n",
    "    acc = history.history['accuracy']\n",
    "    val_acc = history.history['val_accuracy']\n",
    "    loss = history.history['loss']\n",
    "    val_loss = history.history['val_loss']\n",
    "    x = range(1, len(acc) + 1)\n",
    "\n",
    "    plt.figure(figsize=(12, 5))\n",
    "    plt.subplot(1, 2, 1)\n",
    "    plt.plot(x, acc, 'b', label='Training acc')\n",
    "    plt.plot(x, val_acc, 'r', label='Validation acc')\n",
    "    plt.title('Training and validation accuracy')\n",
    "    plt.legend()\n",
    "    plt.subplot(1, 2, 2)\n",
    "    plt.plot(x, loss, 'b', label='Training loss')\n",
    "    plt.plot(x, val_loss, 'r', label='Validation loss')\n",
    "    plt.title('Training and validation loss')\n",
    "    plt.legend()\n",
    "plot_history(history_model_RNN)\n",
    "print('Accuracy_RNN_model: %f' % (accuracy_RNN*100))\n",
    "print('loss_RNN_model: %f' % (loss_RNN*100))"
   ]
  },
  {
   "cell_type": "code",
   "execution_count": 27,
   "metadata": {},
   "outputs": [],
   "source": [
    "model_RNN.save('C:/Users/rzouga/Downloads/Github/NLP/my_model_RNN_tweet.h5') "
   ]
  },
  {
   "cell_type": "markdown",
   "metadata": {},
   "source": [
    "# 2-Hybrid CNN-LSTM:\n",
    "\n",
    "Convolutional neural networks have been found to work well with text data ,the CNN Model for feature extraction \n",
    "\n",
    "LSTM Model for interpreting the features across time steps."
   ]
  },
  {
   "cell_type": "code",
   "execution_count": 28,
   "metadata": {},
   "outputs": [
    {
     "name": "stdout",
     "output_type": "stream",
     "text": [
      "Model: \"model_CNN_LSTM\"\n",
      "_________________________________________________________________\n",
      "Layer (type)                 Output Shape              Param #   \n",
      "=================================================================\n",
      "embedding_1 (Embedding)      (None, 42, 300)           5361900   \n",
      "_________________________________________________________________\n",
      "conv1d (Conv1D)              (None, 42, 200)           420200    \n",
      "_________________________________________________________________\n",
      "max_pooling1d (MaxPooling1D) (None, 10, 200)           0         \n",
      "_________________________________________________________________\n",
      "lstm_2 (LSTM)                (None, 10, 128)           168448    \n",
      "_________________________________________________________________\n",
      "lstm_3 (LSTM)                (None, 128)               131584    \n",
      "_________________________________________________________________\n",
      "dense_2 (Dense)              (None, 16)                2064      \n",
      "_________________________________________________________________\n",
      "dropout_1 (Dropout)          (None, 16)                0         \n",
      "_________________________________________________________________\n",
      "dense_3 (Dense)              (None, 3)                 51        \n",
      "=================================================================\n",
      "Total params: 6,084,247\n",
      "Trainable params: 722,347\n",
      "Non-trainable params: 5,361,900\n",
      "_________________________________________________________________\n",
      "None\n"
     ]
    }
   ],
   "source": [
    "#Convolutional neural networks have been found to work well with text data ,the CNN Model for feature extraction \n",
    "#LSTM Model for interpreting the features across time steps.\n",
    "from tensorflow.keras.layers import Embedding\n",
    "from tensorflow.keras.layers import Dense, Input\n",
    "from tensorflow.keras.layers import Conv1D, MaxPooling1D, Embedding\n",
    "from tensorflow.keras.models import Model\n",
    "from tensorflow.keras.layers import Dense, Activation, Multiply, Add, LSTM, LeakyReLU\n",
    "from tensorflow.keras.layers import Input, Dense, Dropout\n",
    "from tensorflow.keras.optimizers import Adam\n",
    "from tensorflow.keras.regularizers import l2\n",
    "from tensorflow.keras.callbacks import EarlyStopping, ModelCheckpoint\n",
    "wordvec_dim=300\n",
    "model_CNN_LSTM = tf.keras.Sequential(name='model_CNN_LSTM')\n",
    "model_CNN_LSTM.add(layers.Embedding(vocab_length, output_dim=wordvec_dim, weights=[embedding_matrix], input_length=length_long_sentence, trainable=False))\n",
    "model_CNN_LSTM.add(layers.Conv1D(200, 7, activation='relu',padding='same'))\n",
    "model_CNN_LSTM.add(layers.MaxPooling1D(pool_size=4))\n",
    "model_CNN_LSTM.add(LSTM(128, return_sequences=True, dropout=0.1, recurrent_dropout=0.1))\n",
    "model_CNN_LSTM.add(LSTM(128, return_sequences=False, dropout=0.1, recurrent_dropout=0.1))\n",
    "model_CNN_LSTM.add(Dense(16))\n",
    "model_CNN_LSTM.add(Dropout(rate=0.2))\n",
    "model_CNN_LSTM.add(Dense(3, activation='softmax'))\n",
    "model_CNN_LSTM.compile(loss='categorical_crossentropy', optimizer='adam', metrics=['accuracy'])\n",
    "print(model_CNN_LSTM.summary())"
   ]
  },
  {
   "cell_type": "code",
   "execution_count": 29,
   "metadata": {},
   "outputs": [],
   "source": [
    "# configure early stopping\n",
    "es = EarlyStopping(monitor='loss',min_delta=0.00000000000000001, patience=10)\n",
    "history_model_CNN_LSTM =model_CNN_LSTM.fit(X_train_dl, y_train_dl, batch_size=64, epochs=1000, verbose=0,callbacks=[es],validation_split=0.05)"
   ]
  },
  {
   "cell_type": "code",
   "execution_count": 32,
   "metadata": {},
   "outputs": [
    {
     "name": "stdout",
     "output_type": "stream",
     "text": [
      "Accuracy_CNN_LSTM_model: 61.590040\n",
      "loss_CNN_LSTM_model: 238.649058\n"
     ]
    },
    {
     "data": {
      "image/png": "[encoded data removed]",
      "text/plain": [
       "<Figure size 864x360 with 2 Axes>"
      ]
     },
     "metadata": {},
     "output_type": "display_data"
    }
   ],
   "source": [
    "loss_CNN_LSTM, accuracy_CNN_LSTM = model_CNN_LSTM.evaluate( X_test_dl, y_test_dl, verbose=0)\n",
    "import matplotlib.pyplot as plt\n",
    "plt.style.use('ggplot')\n",
    "\n",
    "def plot_history(history):\n",
    "    acc = history.history['accuracy']\n",
    "    val_acc = history.history['val_accuracy']\n",
    "    loss = history.history['loss']\n",
    "    val_loss = history.history['val_loss']\n",
    "    x = range(1, len(acc) + 1)\n",
    "\n",
    "    plt.figure(figsize=(12, 5))\n",
    "    plt.subplot(1, 2, 1)\n",
    "    plt.plot(x, acc, 'b', label='Training acc')\n",
    "    plt.plot(x, val_acc, 'r', label='Validation acc')\n",
    "    plt.title('Training and validation accuracy')\n",
    "    plt.legend()\n",
    "    plt.subplot(1, 2, 2)\n",
    "    plt.plot(x, loss, 'b', label='Training loss')\n",
    "    plt.plot(x, val_loss, 'r', label='Validation loss')\n",
    "    plt.title('Training and validation loss')\n",
    "    plt.legend()\n",
    "plot_history(history_model_CNN_LSTM )\n",
    "print('Accuracy_CNN_LSTM_model: %f' % (accuracy_CNN_LSTM *100))\n",
    "print('loss_CNN_LSTM_model: %f' % (loss_CNN_LSTM *100))"
   ]
  },
  {
   "cell_type": "code",
   "execution_count": 31,
   "metadata": {},
   "outputs": [],
   "source": [
    "model_CNN_LSTM .save('C:/Users/rzouga/Downloads/Github/NLP/my_model_CNN_LSTM _tweet.h5') "
   ]
  }
 ],
 "metadata": {
  "kernelspec": {
   "display_name": "Python 3",
   "language": "python",
   "name": "python3"
  },
  "language_info": {
   "codemirror_mode": {
    "name": "ipython",
    "version": 3
   },
   "file_extension": ".py",
   "mimetype": "text/x-python",
   "name": "python",
   "nbconvert_exporter": "python",
   "pygments_lexer": "ipython3",
   "version": "3.7.6"
  }
 },
 "nbformat": 4,
 "nbformat_minor": 4
}
