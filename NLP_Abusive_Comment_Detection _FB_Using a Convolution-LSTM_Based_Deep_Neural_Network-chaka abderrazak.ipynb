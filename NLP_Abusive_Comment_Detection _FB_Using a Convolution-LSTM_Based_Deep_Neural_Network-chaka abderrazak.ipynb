{
 "cells": [
  {
   "cell_type": "code",
   "execution_count": null,
   "metadata": {},
   "outputs": [],
   "source": [
    "''''Q2 – Could you explain to me how we can use a CNN-LSTM hybrid algo\n",
    "for detecting abusive language on the Social Web. So I can see the quality of your code\n",
    "a FB, Instagram connector (image, text and image-related comments) that collects\n",
    "comments in French, Arabic on the subject of the death of the Tunisian president.\n",
    "Text and image should be stored in a Mongodb database.'''"
   ]
  },
  {
   "cell_type": "code",
   "execution_count": 118,
   "metadata": {},
   "outputs": [
    {
     "data": {
      "text/plain": [
       "'[\\n  \\n\\n    \\'THIS IS AN EXELLENT PRESIDENT   @@@@\\',\\n\\n    \\'The president was fantastic I like it!!!!!!\\',\\n\\n    \\'You should watch  his death it was  brilliant\\',\\n\\n    \\'Exceptionally good and honorable ---\\',\\n\\n    \\'Wonderfully directed and executed I like it@@\\',\\n\\n    \\'Its a fantastic president\\',\\n\\n    \\'Never watched such a brillent president\\',\\n\\n    \\'It is a Wonderful president\\',\\n\\n    \"horrible acting president\", \\n\\n    \\'waste of money ,\\n\\n     \\' this president is a thief \\',\\n\\n    \\'pathetic president\\', \\n\\n    \\'It was very boring president\\',\\n\\n    \\'I did not like the president\\',\\n\\n    \\'The president was horrible  and bad \\',\\n\\n    \\'I will not recommend you this president\\',\\n\\n    \\'The president is pathetic\\'\\n]'"
      ]
     },
     "execution_count": 118,
     "metadata": {},
     "output_type": "execute_result"
    }
   ],
   "source": [
    "# Q2answer:\n",
    "import nltk\n",
    "import numpy as np\n",
    "import random\n",
    "import string # to process standard python strings\n",
    "#example of raw data from web comments in fb .\n",
    "f=open('C:/Users/rzouga/Desktop/CV+diplome/job opr/rawcomments.txt','r',errors = 'ignore') \n",
    "\n",
    "raw=f.read()\n",
    "raw"
   ]
  },
  {
   "cell_type": "code",
   "execution_count": 119,
   "metadata": {},
   "outputs": [
    {
     "data": {
      "text/plain": [
       "[\"[\\n  \\n\\n    'this is an exellent president   @@@@',\\n\\n    'the president was fantastic i like it!!!!!!\",\n",
       " '\\',\\n\\n    \\'you should watch  his death it was  brilliant\\',\\n\\n    \\'exceptionally good and honorable ---\\',\\n\\n    \\'wonderfully directed and executed i like it@@\\',\\n\\n    \\'its a fantastic president\\',\\n\\n    \\'never watched such a brillent president\\',\\n\\n    \\'it is a wonderful president\\',\\n\\n    \"horrible acting president\", \\n\\n    \\'waste of money ,\\n\\n     \\' this president is a thief \\',\\n\\n    \\'pathetic president\\', \\n\\n    \\'it was very boring president\\',\\n\\n    \\'i did not like the president\\',\\n\\n    \\'the president was horrible  and bad \\',\\n\\n    \\'i will not recommend you this president\\',\\n\\n    \\'the president is pathetic\\'\\n]']"
      ]
     },
     "execution_count": 119,
     "metadata": {},
     "output_type": "execute_result"
    }
   ],
   "source": [
    "raw=raw.lower()# converts to lowercas\n",
    "sent_tokens = nltk.sent_tokenize(raw)# converts to list of sentences \n",
    "sent_tokens"
   ]
  },
  {
   "cell_type": "code",
   "execution_count": 120,
   "metadata": {},
   "outputs": [
    {
     "name": "stderr",
     "output_type": "stream",
     "text": [
      "[nltk_data] Downloading package wordnet to\n",
      "[nltk_data]     C:\\Users\\rzouga\\AppData\\Roaming\\nltk_data...\n",
      "[nltk_data]   Package wordnet is already up-to-date!\n"
     ]
    },
    {
     "data": {
      "text/plain": [
       "[' this is an exellent president the president was fantastic like it ',\n",
       " ' you should watch his death it was brilliant exceptionally good and honorable wonderfully directed and executed like it its fantastic president never watched such brillent president it is wonderful president horrible acting president waste of money this president is thief pathetic president it was very boring president did not like the president the president was horrible and bad will not recommend you this president the president is pathetic ']"
      ]
     },
     "execution_count": 120,
     "metadata": {},
     "output_type": "execute_result"
    }
   ],
   "source": [
    "#1-preporcess of our text \n",
    "import numpy as np\n",
    "import re\n",
    "\n",
    "import matplotlib.pyplot as plt\n",
    "def preprocess_text(sen):\n",
    "    # Remove punctuations and numbers\n",
    "    sentence = re.sub('[^a-zA-Z]', ' ', sen)\n",
    "\n",
    "    # Single character removal\n",
    "    sentence = re.sub(r\"\\s+[a-zA-Z]\\s+\", ' ', sentence)\n",
    "\n",
    "    # Removing multiple spaces\n",
    "    sentence = re.sub(r'\\s+', ' ', sentence)\n",
    "\n",
    "    return sentence\n",
    "corpus=[]\n",
    "for sen in sent_tokens:\n",
    "    corpus.append(preprocess_text(sen))\n",
    "    \n",
    "nltk.download('wordnet') # first-time use only\n",
    "lemmer = nltk.stem.WordNetLemmatizer()\n",
    "#WordNet is a semantically-oriented dictionary of English included in NLTK.\n",
    "def LemTokens(tokens):\n",
    "    return [lemmer.lemmatize(token) for token in tokens]\n",
    "corpus=LemTokens(corpus)\n",
    "corpus"
   ]
  },
  {
   "cell_type": "code",
   "execution_count": 121,
   "metadata": {},
   "outputs": [],
   "source": [
    "#model cnn+lstmrnn \n",
    "from numpy import array\n",
    "from tensorflow.keras import backend\n",
    "import tensorflow as tf\n",
    "from tensorflow import keras\n",
    "from keras.preprocessing.text import one_hot\n",
    "from keras.preprocessing.sequence import pad_sequences\n",
    "layers = tf.keras.layers\n",
    "from keras.models import Sequential\n",
    "from keras.layers import Dense\n",
    "from keras.layers import Flatten\n",
    "from keras.layers.embeddings import Embedding\n",
    "# i take this example to train it  max leng sentence=8\n",
    "corpus = [\n",
    "    # Positive comment:positive language about the death of the Tunisian president.\n",
    "\n",
    "    'This is an excellent president ',\n",
    "    'The president was fantastic I like it',\n",
    "    'You should watch  his death it was  brilliant',\n",
    "    'Exceptionally good and honorable ',\n",
    "    'Wonderfully directed and executed I like it',\n",
    "    'Its a fantastic president',\n",
    "    'Never watched such a brillent president',\n",
    "    'It is a Wonderful president',\n",
    "     'beji like helping people',\n",
    "    'beji sebsi love all of us ',\n",
    "    \n",
    "\n",
    "    # Negtive comment :abusive language about the death of the Tunisian president.\n",
    "\n",
    "    \"horrible acting president\",\n",
    "    'waste of money , this president is a thief ',\n",
    "    'pathetic president',\n",
    "    'It was very boring president',\n",
    "    'I did not like the president',\n",
    "    'The president was horrible  and bad ',\n",
    "    'I will not recommend you this president',\n",
    "    'The president is pathetic',\n",
    "    'baji sebsi is so bad',\n",
    "    'baji sebsi stole the money',\n",
    "   \n",
    "]\n",
    "#labels :0==> abusive/negative comments , 1==>normal/positive comments \n",
    "Abusive_comments_labels= array([1,1,1,1,1,1,1,1,1,1,0,0,0,0,0,0,0,0,0,0])\n"
   ]
  },
  {
   "cell_type": "code",
   "execution_count": 122,
   "metadata": {},
   "outputs": [
    {
     "name": "stdout",
     "output_type": "stream",
     "text": [
      "60\n"
     ]
    }
   ],
   "source": [
    "# preporess for model \n",
    "from nltk.tokenize import word_tokenize\n",
    "\n",
    "all_words = []\n",
    "for sent in corpus:\n",
    "    tokenize_word = word_tokenize(sent)\n",
    "    for word in tokenize_word:\n",
    "        all_words.append(word)\n",
    "        unique_words = set(all_words)\n",
    "print(len(unique_words))\n"
   ]
  },
  {
   "cell_type": "code",
   "execution_count": 123,
   "metadata": {},
   "outputs": [
    {
     "name": "stdout",
     "output_type": "stream",
     "text": [
      "[[9, 2, 22, 23, 1], [3, 1, 5, 12, 6, 7, 4], [13, 24, 25, 26, 27, 4, 5, 28], [29, 30, 10, 31], [32, 33, 10, 34, 6, 7, 4], [35, 8, 12, 1], [36, 37, 38, 8, 39, 1], [4, 2, 8, 40, 1], [14, 7, 41, 42], [14, 11, 43, 44, 15, 45], [16, 46, 1], [47, 15, 17, 9, 1, 2, 8, 48], [18, 1], [4, 5, 49, 50, 1], [6, 51, 19, 7, 3, 1], [3, 1, 5, 16, 10, 20], [6, 52, 19, 53, 13, 9, 1], [3, 1, 2, 18], [21, 11, 2, 54, 20], [21, 11, 55, 3, 17]]\n"
     ]
    }
   ],
   "source": [
    "#embeded sentences \n",
    "from keras.preprocessing.text import Tokenizer\n",
    "word_tokenizer = Tokenizer()\n",
    "word_tokenizer.fit_on_texts(corpus)\n",
    "vocab_length = len(word_tokenizer.word_index) + 1\n",
    "embedded_sentences = word_tokenizer.texts_to_sequences(corpus)\n",
    "print(embedded_sentences)"
   ]
  },
  {
   "cell_type": "code",
   "execution_count": 124,
   "metadata": {},
   "outputs": [
    {
     "name": "stdout",
     "output_type": "stream",
     "text": [
      "[[ 9  2 22 23  1  0  0  0  0]\n",
      " [ 3  1  5 12  6  7  4  0  0]\n",
      " [13 24 25 26 27  4  5 28  0]\n",
      " [29 30 10 31  0  0  0  0  0]\n",
      " [32 33 10 34  6  7  4  0  0]\n",
      " [35  8 12  1  0  0  0  0  0]\n",
      " [36 37 38  8 39  1  0  0  0]\n",
      " [ 4  2  8 40  1  0  0  0  0]\n",
      " [14  7 41 42  0  0  0  0  0]\n",
      " [14 11 43 44 15 45  0  0  0]\n",
      " [16 46  1  0  0  0  0  0  0]\n",
      " [47 15 17  9  1  2  8 48  0]\n",
      " [18  1  0  0  0  0  0  0  0]\n",
      " [ 4  5 49 50  1  0  0  0  0]\n",
      " [ 6 51 19  7  3  1  0  0  0]\n",
      " [ 3  1  5 16 10 20  0  0  0]\n",
      " [ 6 52 19 53 13  9  1  0  0]\n",
      " [ 3  1  2 18  0  0  0  0  0]\n",
      " [21 11  2 54 20  0  0  0  0]\n",
      " [21 11 55  3 17  0  0  0  0]]\n"
     ]
    }
   ],
   "source": [
    "#padded sentences \n",
    "from nltk.tokenize import word_tokenize\n",
    "\n",
    "word_count = lambda sentence: len(word_tokenize(sentence))\n",
    "longest_sentence = max(corpus, key=word_count)\n",
    "length_long_sentence = len(word_tokenize(longest_sentence))\n",
    "\n",
    "padded_sentences = pad_sequences(embedded_sentences, length_long_sentence, padding='post')\n",
    "\n",
    "print(padded_sentences)"
   ]
  },
  {
   "cell_type": "code",
   "execution_count": 125,
   "metadata": {},
   "outputs": [],
   "source": [
    "# custumise our embeded  matrix or import GLOVE that accelearate the training process \n",
    "from numpy import array\n",
    "from numpy import asarray\n",
    "from numpy import zeros\n",
    "\n",
    "embeddings_dictionary = dict()\n",
    "glove_file = open('C:/Users/rzouga/Desktop/CV+diplome/job opr/glove.6B/glove.6B.100d.txt', encoding=\"utf8\")\n",
    "for line in glove_file:\n",
    "    records = line.split()\n",
    "    word = records[0]\n",
    "    vector_dimensions = asarray(records[1:], dtype='float32')\n",
    "    embeddings_dictionary [word] = vector_dimensions\n",
    " # embeddings_dictionary now contains words and corresponding GloVe embeddings for all the words.   \n",
    "\n",
    "glove_file.close()\n"
   ]
  },
  {
   "cell_type": "code",
   "execution_count": 126,
   "metadata": {},
   "outputs": [],
   "source": [
    "embedding_matrix = zeros((vocab_length, 100))\n",
    "for word, index in word_tokenizer.word_index.items():\n",
    "    embedding_vector = embeddings_dictionary.get(word)\n",
    "    if embedding_vector is not None:\n",
    "        embedding_matrix[index] = embedding_vector\n",
    "#embedding_matrix now contains pretrained word embeddings for the words in our corpus.\n",
    "#simple MLP deep learning model  prediction :\n",
    "model = tf.keras.Sequential()\n",
    "model.add(layers.Embedding(vocab_length, 100, weights=[embedding_matrix], input_length=length_long_sentence, trainable=True))\n",
    "model.add(layers.Flatten())\n",
    "model.add(layers.Dense(1, activation='sigmoid'))"
   ]
  },
  {
   "cell_type": "code",
   "execution_count": 127,
   "metadata": {
    "scrolled": true
   },
   "outputs": [
    {
     "name": "stdout",
     "output_type": "stream",
     "text": [
      "Model: \"sequential_16\"\n",
      "_________________________________________________________________\n",
      "Layer (type)                 Output Shape              Param #   \n",
      "=================================================================\n",
      "embedding_16 (Embedding)     (None, 9, 100)            5600      \n",
      "_________________________________________________________________\n",
      "flatten_5 (Flatten)          (None, 900)               0         \n",
      "_________________________________________________________________\n",
      "dense_15 (Dense)             (None, 1)                 901       \n",
      "=================================================================\n",
      "Total params: 6,501\n",
      "Trainable params: 6,501\n",
      "Non-trainable params: 0\n",
      "_________________________________________________________________\n",
      "None\n"
     ]
    }
   ],
   "source": [
    "model.compile(optimizer='adam', loss='binary_crossentropy', metrics=['acc'])\n",
    "print(model.summary())"
   ]
  },
  {
   "cell_type": "code",
   "execution_count": 128,
   "metadata": {
    "scrolled": true
   },
   "outputs": [],
   "source": [
    "#train and test the model \n",
    "from sklearn.model_selection import train_test_split\n",
    "X_train, X_test, y_train, y_test = train_test_split(padded_sentences,Abusive_comments_labels, test_size=0.10)"
   ]
  },
  {
   "cell_type": "code",
   "execution_count": 129,
   "metadata": {},
   "outputs": [
    {
     "name": "stdout",
     "output_type": "stream",
     "text": [
      "Train on 16 samples, validate on 2 samples\n",
      "Epoch 1/25\n",
      "16/16 [==============================] - 2s 120ms/sample - loss: 0.7802 - acc: 0.4375 - val_loss: 0.3975 - val_acc: 1.0000\n",
      "Epoch 2/25\n",
      "16/16 [==============================] - 0s 4ms/sample - loss: 0.6299 - acc: 0.6250 - val_loss: 0.4442 - val_acc: 1.0000\n",
      "Epoch 3/25\n",
      "16/16 [==============================] - 0s 5ms/sample - loss: 0.5401 - acc: 0.8750 - val_loss: 0.4838 - val_acc: 1.0000\n",
      "Epoch 4/25\n",
      "16/16 [==============================] - 0s 4ms/sample - loss: 0.4669 - acc: 1.0000 - val_loss: 0.4831 - val_acc: 1.0000\n",
      "Epoch 5/25\n",
      "16/16 [==============================] - 0s 4ms/sample - loss: 0.4128 - acc: 1.0000 - val_loss: 0.4964 - val_acc: 1.0000\n",
      "Epoch 6/25\n",
      "16/16 [==============================] - 0s 4ms/sample - loss: 0.3624 - acc: 1.0000 - val_loss: 0.4871 - val_acc: 1.0000\n",
      "Epoch 7/25\n",
      "16/16 [==============================] - 0s 5ms/sample - loss: 0.3236 - acc: 1.0000 - val_loss: 0.4799 - val_acc: 1.0000\n",
      "Epoch 8/25\n",
      "16/16 [==============================] - 0s 4ms/sample - loss: 0.2837 - acc: 1.0000 - val_loss: 0.4823 - val_acc: 1.0000\n",
      "Epoch 9/25\n",
      "16/16 [==============================] - 0s 4ms/sample - loss: 0.2536 - acc: 1.0000 - val_loss: 0.4898 - val_acc: 1.0000\n",
      "Epoch 10/25\n",
      "16/16 [==============================] - 0s 4ms/sample - loss: 0.2318 - acc: 1.0000 - val_loss: 0.4829 - val_acc: 1.0000\n",
      "Epoch 11/25\n",
      "16/16 [==============================] - 0s 3ms/sample - loss: 0.2071 - acc: 1.0000 - val_loss: 0.4953 - val_acc: 1.0000\n",
      "Epoch 12/25\n",
      "16/16 [==============================] - 0s 4ms/sample - loss: 0.1883 - acc: 1.0000 - val_loss: 0.5075 - val_acc: 1.0000\n",
      "Epoch 13/25\n",
      "16/16 [==============================] - 0s 3ms/sample - loss: 0.1700 - acc: 1.0000 - val_loss: 0.5056 - val_acc: 1.0000\n",
      "Epoch 14/25\n",
      "16/16 [==============================] - 0s 3ms/sample - loss: 0.1551 - acc: 1.0000 - val_loss: 0.5064 - val_acc: 1.0000\n",
      "Epoch 15/25\n",
      "16/16 [==============================] - 0s 3ms/sample - loss: 0.1418 - acc: 1.0000 - val_loss: 0.5045 - val_acc: 1.0000\n",
      "Epoch 16/25\n",
      "16/16 [==============================] - 0s 4ms/sample - loss: 0.1302 - acc: 1.0000 - val_loss: 0.5086 - val_acc: 0.5000\n",
      "Epoch 17/25\n",
      "16/16 [==============================] - 0s 4ms/sample - loss: 0.1199 - acc: 1.0000 - val_loss: 0.5158 - val_acc: 0.5000\n",
      "Epoch 18/25\n",
      "16/16 [==============================] - 0s 4ms/sample - loss: 0.1100 - acc: 1.0000 - val_loss: 0.5142 - val_acc: 0.5000\n",
      "Epoch 19/25\n",
      "16/16 [==============================] - 0s 4ms/sample - loss: 0.1024 - acc: 1.0000 - val_loss: 0.5128 - val_acc: 0.5000\n",
      "Epoch 20/25\n",
      "16/16 [==============================] - 0s 4ms/sample - loss: 0.0946 - acc: 1.0000 - val_loss: 0.5175 - val_acc: 0.5000\n",
      "Epoch 21/25\n",
      "16/16 [==============================] - 0s 4ms/sample - loss: 0.0878 - acc: 1.0000 - val_loss: 0.5185 - val_acc: 0.5000\n",
      "Epoch 22/25\n",
      "16/16 [==============================] - 0s 4ms/sample - loss: 0.0820 - acc: 1.0000 - val_loss: 0.5178 - val_acc: 0.5000\n",
      "Epoch 23/25\n",
      "16/16 [==============================] - 0s 4ms/sample - loss: 0.0766 - acc: 1.0000 - val_loss: 0.5233 - val_acc: 0.5000\n",
      "Epoch 24/25\n",
      "16/16 [==============================] - 0s 4ms/sample - loss: 0.0717 - acc: 1.0000 - val_loss: 0.5226 - val_acc: 0.5000\n",
      "Epoch 25/25\n",
      "16/16 [==============================] - 0s 3ms/sample - loss: 0.0674 - acc: 1.0000 - val_loss: 0.5276 - val_acc: 0.5000\n"
     ]
    }
   ],
   "source": [
    "history = model.fit(X_train, y_train, batch_size=2, epochs=25, verbose=1, validation_split=0.1)"
   ]
  },
  {
   "cell_type": "code",
   "execution_count": 130,
   "metadata": {
    "scrolled": true
   },
   "outputs": [
    {
     "name": "stdout",
     "output_type": "stream",
     "text": [
      "Accuracy: 100.000000\n",
      "loss: 36.400414\n"
     ]
    },
    {
     "data": {
      "image/png": "[encoded data removed]",
      "text/plain": [
       "<Figure size 864x360 with 2 Axes>"
      ]
     },
     "metadata": {},
     "output_type": "display_data"
    }
   ],
   "source": [
    "loss, accuracy = model.evaluate( X_test, y_test, verbose=0)\n",
    "import matplotlib.pyplot as plt\n",
    "plt.style.use('ggplot')\n",
    "\n",
    "def plot_history(history):\n",
    "    acc = history.history['acc']\n",
    "    val_acc = history.history['val_acc']\n",
    "    loss = history.history['loss']\n",
    "    val_loss = history.history['val_loss']\n",
    "    x = range(1, len(acc) + 1)\n",
    "\n",
    "    plt.figure(figsize=(12, 5))\n",
    "    plt.subplot(1, 2, 1)\n",
    "    plt.plot(x, acc, 'b', label='Training acc')\n",
    "    plt.plot(x, val_acc, 'r', label='Validation acc')\n",
    "    plt.title('Training and validation accuracy')\n",
    "    plt.legend()\n",
    "    plt.subplot(1, 2, 2)\n",
    "    plt.plot(x, loss, 'b', label='Training loss')\n",
    "    plt.plot(x, val_loss, 'r', label='Validation loss')\n",
    "    plt.title('Training and validation loss')\n",
    "    plt.legend()\n",
    "plot_history(history)\n",
    "print('Accuracy: %f' % (accuracy*100))\n",
    "print('loss: %f' % (loss*100))"
   ]
  },
  {
   "cell_type": "code",
   "execution_count": 131,
   "metadata": {},
   "outputs": [
    {
     "name": "stdout",
     "output_type": "stream",
     "text": [
      "[[0.15656292]]\n",
      "#labels :0==> abusive/negative comments,number <0.5  we have abusive comments\n"
     ]
    }
   ],
   "source": [
    "#Predict new data :\n",
    "new_comment= ['horrible ,pathetic president']\n",
    "word_tokenizer = Tokenizer()\n",
    "word_tokenizer.fit_on_texts(corpus)\n",
    "vocab_length = len(word_tokenizer.word_index) + 1\n",
    "embedded_new_comment = word_tokenizer.texts_to_sequences(new_comment)\n",
    "padded = pad_sequences(embedded_new_comment,length_long_sentence, padding='post')\n",
    "pred = model.predict(padded)\n",
    "print(pred)\n",
    "print('#labels :0==> abusive/negative comments,number <0.5  we have abusive comments' )"
   ]
  },
  {
   "cell_type": "code",
   "execution_count": 132,
   "metadata": {},
   "outputs": [
    {
     "name": "stdout",
     "output_type": "stream",
     "text": [
      "Model: \"sequential_17\"\n",
      "_________________________________________________________________\n",
      "Layer (type)                 Output Shape              Param #   \n",
      "=================================================================\n",
      "embedding_17 (Embedding)     (None, 9, 100)            5600      \n",
      "_________________________________________________________________\n",
      "conv1d_11 (Conv1D)           (None, 5, 100)            50100     \n",
      "_________________________________________________________________\n",
      "max_pooling1d_11 (MaxPooling (None, 1, 100)            0         \n",
      "_________________________________________________________________\n",
      "lstm_10 (LSTM)               (None, 128)               117248    \n",
      "_________________________________________________________________\n",
      "dense_16 (Dense)             (None, 1)                 129       \n",
      "=================================================================\n",
      "Total params: 173,077\n",
      "Trainable params: 173,077\n",
      "Non-trainable params: 0\n",
      "_________________________________________________________________\n",
      "None\n"
     ]
    }
   ],
   "source": [
    "#hybrid CNN-LSTM:\n",
    "#Convolutional neural networks have been found to work well with text data ,the CNN Model for feature extraction \n",
    "#LSTM Model for interpreting the features across time steps.\n",
    "from keras.layers import Embedding\n",
    "from keras.layers import Dense, Input\n",
    "from keras.layers import Conv1D, MaxPooling1D, Embedding\n",
    "from keras.models import Model\n",
    "from keras.layers import Dense, Activation, Multiply, Add, LSTM, LeakyReLU\n",
    "from keras.layers import Input, Dense, Dropout\n",
    "from keras.optimizers import Adam\n",
    "from keras.regularizers import l2\n",
    "from keras.callbacks import EarlyStopping, ModelCheckpoint\n",
    "model2 = tf.keras.Sequential()\n",
    "model2.add(layers.Embedding(vocab_length, 100, weights=[embedding_matrix], input_length=length_long_sentence, trainable=True))\n",
    "\n",
    "model2.add(layers.Conv1D(100, 5, activation='relu'))\n",
    "model2.add(layers.MaxPooling1D(pool_size=4))\n",
    "model2.add(layers.LSTM(128))\n",
    "model2.add(layers.Dense(1, activation='sigmoid'))\n",
    "model2.compile(optimizer='adam', loss='binary_crossentropy', metrics=['acc'])\n",
    "print(model2.summary())"
   ]
  },
  {
   "cell_type": "code",
   "execution_count": 133,
   "metadata": {},
   "outputs": [
    {
     "name": "stdout",
     "output_type": "stream",
     "text": [
      "Train on 16 samples, validate on 2 samples\n",
      "Epoch 1/25\n",
      "16/16 [==============================] - 10s 626ms/sample - loss: 0.7795 - acc: 0.3750 - val_loss: 0.8821 - val_acc: 0.0000e+00\n",
      "Epoch 2/25\n",
      "16/16 [==============================] - 0s 7ms/sample - loss: 0.6186 - acc: 0.6250 - val_loss: 0.7236 - val_acc: 0.0000e+00\n",
      "Epoch 3/25\n",
      "16/16 [==============================] - 0s 7ms/sample - loss: 0.5532 - acc: 1.0000 - val_loss: 0.6607 - val_acc: 1.0000\n",
      "Epoch 4/25\n",
      "16/16 [==============================] - 0s 7ms/sample - loss: 0.4183 - acc: 1.0000 - val_loss: 0.6796 - val_acc: 0.5000\n",
      "Epoch 5/25\n",
      "16/16 [==============================] - 0s 6ms/sample - loss: 0.2314 - acc: 1.0000 - val_loss: 0.6627 - val_acc: 0.5000\n",
      "Epoch 6/25\n",
      "16/16 [==============================] - 0s 6ms/sample - loss: 0.0835 - acc: 1.0000 - val_loss: 0.4716 - val_acc: 1.0000\n",
      "Epoch 7/25\n",
      "16/16 [==============================] - 0s 6ms/sample - loss: 0.0215 - acc: 1.0000 - val_loss: 0.4643 - val_acc: 1.0000\n",
      "Epoch 8/25\n",
      "16/16 [==============================] - 0s 6ms/sample - loss: 0.0069 - acc: 1.0000 - val_loss: 0.4677 - val_acc: 1.0000\n",
      "Epoch 9/25\n",
      "16/16 [==============================] - 0s 11ms/sample - loss: 0.0038 - acc: 1.0000 - val_loss: 0.4623 - val_acc: 1.0000\n",
      "Epoch 10/25\n",
      "16/16 [==============================] - 0s 7ms/sample - loss: 0.0023 - acc: 1.0000 - val_loss: 0.4434 - val_acc: 1.0000\n",
      "Epoch 11/25\n",
      "16/16 [==============================] - 0s 7ms/sample - loss: 0.0018 - acc: 1.0000 - val_loss: 0.4217 - val_acc: 1.0000\n",
      "Epoch 12/25\n",
      "16/16 [==============================] - 0s 6ms/sample - loss: 0.0015 - acc: 1.0000 - val_loss: 0.4054 - val_acc: 1.0000\n",
      "Epoch 13/25\n",
      "16/16 [==============================] - 0s 7ms/sample - loss: 0.0013 - acc: 1.0000 - val_loss: 0.4022 - val_acc: 1.0000\n",
      "Epoch 14/25\n",
      "16/16 [==============================] - 0s 6ms/sample - loss: 0.0012 - acc: 1.0000 - val_loss: 0.4011 - val_acc: 1.0000\n",
      "Epoch 15/25\n",
      "16/16 [==============================] - 0s 7ms/sample - loss: 0.0011 - acc: 1.0000 - val_loss: 0.4003 - val_acc: 1.0000\n",
      "Epoch 16/25\n",
      "16/16 [==============================] - 0s 6ms/sample - loss: 0.0010 - acc: 1.0000 - val_loss: 0.3955 - val_acc: 1.0000\n",
      "Epoch 17/25\n",
      "16/16 [==============================] - 0s 6ms/sample - loss: 9.3493e-04 - acc: 1.0000 - val_loss: 0.3904 - val_acc: 1.0000\n",
      "Epoch 18/25\n",
      "16/16 [==============================] - 0s 7ms/sample - loss: 8.6751e-04 - acc: 1.0000 - val_loss: 0.3908 - val_acc: 1.0000\n",
      "Epoch 19/25\n",
      "16/16 [==============================] - 0s 7ms/sample - loss: 8.1060e-04 - acc: 1.0000 - val_loss: 0.3934 - val_acc: 1.0000\n",
      "Epoch 20/25\n",
      "16/16 [==============================] - 0s 7ms/sample - loss: 7.6072e-04 - acc: 1.0000 - val_loss: 0.3927 - val_acc: 1.0000\n",
      "Epoch 21/25\n",
      "16/16 [==============================] - 0s 6ms/sample - loss: 7.1332e-04 - acc: 1.0000 - val_loss: 0.3929 - val_acc: 1.0000\n",
      "Epoch 22/25\n",
      "16/16 [==============================] - 0s 7ms/sample - loss: 6.6841e-04 - acc: 1.0000 - val_loss: 0.3972 - val_acc: 1.0000\n",
      "Epoch 23/25\n",
      "16/16 [==============================] - 0s 7ms/sample - loss: 6.3073e-04 - acc: 1.0000 - val_loss: 0.4012 - val_acc: 1.0000\n",
      "Epoch 24/25\n",
      "16/16 [==============================] - 0s 7ms/sample - loss: 5.9716e-04 - acc: 1.0000 - val_loss: 0.3982 - val_acc: 1.0000\n",
      "Epoch 25/25\n",
      "16/16 [==============================] - 0s 8ms/sample - loss: 5.6544e-04 - acc: 1.0000 - val_loss: 0.4017 - val_acc: 1.0000\n"
     ]
    }
   ],
   "source": [
    "history2 = model2.fit(X_train, y_train, batch_size=2, epochs=25, verbose=1, validation_split=0.1)"
   ]
  },
  {
   "cell_type": "code",
   "execution_count": 134,
   "metadata": {},
   "outputs": [
    {
     "name": "stdout",
     "output_type": "stream",
     "text": [
      "Accuracy: 100.000000\n",
      "loss: 22.122148\n"
     ]
    },
    {
     "data": {
      "image/png": "[encoded data removed]",
      "text/plain": [
       "<Figure size 864x360 with 2 Axes>"
      ]
     },
     "metadata": {},
     "output_type": "display_data"
    }
   ],
   "source": [
    "loss2, accuracy2 = model2.evaluate( X_test, y_test, verbose=0)\n",
    "import matplotlib.pyplot as plt\n",
    "plt.style.use('ggplot')\n",
    "\n",
    "def plot_history(history):\n",
    "    acc = history.history['acc']\n",
    "    val_acc = history.history['val_acc']\n",
    "    loss = history.history['loss']\n",
    "    val_loss = history.history['val_loss']\n",
    "    x = range(1, len(acc) + 1)\n",
    "\n",
    "    plt.figure(figsize=(12, 5))\n",
    "    plt.subplot(1, 2, 1)\n",
    "    plt.plot(x, acc, 'b', label='Training acc')\n",
    "    plt.plot(x, val_acc, 'r', label='Validation acc')\n",
    "    plt.title('Training and validation accuracy')\n",
    "    plt.legend()\n",
    "    plt.subplot(1, 2, 2)\n",
    "    plt.plot(x, loss, 'b', label='Training loss')\n",
    "    plt.plot(x, val_loss, 'r', label='Validation loss')\n",
    "    plt.title('Training and validation loss')\n",
    "    plt.legend()\n",
    "plot_history(history2)\n",
    "print('Accuracy: %f' % (accuracy2*100))\n",
    "print('loss: %f' % (loss2*100))"
   ]
  },
  {
   "cell_type": "code",
   "execution_count": 135,
   "metadata": {},
   "outputs": [
    {
     "name": "stdout",
     "output_type": "stream",
     "text": [
      "[[0.00113322]]\n",
      "#labels :0==> abusive/negative comments,number <0.5  we have abusive comments\n"
     ]
    }
   ],
   "source": [
    "#Predict new data :\n",
    "new_comment= ['horrible ,pathetic president']\n",
    "word_tokenizer = Tokenizer()\n",
    "word_tokenizer.fit_on_texts(corpus)\n",
    "vocab_length = len(word_tokenizer.word_index) + 1\n",
    "embedded_new_comment = word_tokenizer.texts_to_sequences(new_comment)\n",
    "padded = pad_sequences(embedded_new_comment,length_long_sentence, padding='post')\n",
    "pred = model2.predict(padded)\n",
    "print(pred)\n",
    "print('#labels :0==> abusive/negative comments,number <0.5  we have abusive comments' )\n",
    "# just with few data we have huge difference , cnn-lstm is better than mlp only in our case for abusive comments detection"
   ]
  },
  {
   "cell_type": "code",
   "execution_count": 141,
   "metadata": {},
   "outputs": [],
   "source": [
    "from pymongo import MongoClient\n",
    "import requests\n",
    "import pandas as pd\n",
    "import facebook    #sudo pip install facebook-sdk\n",
    "from collections import Counter\n",
    "from facepy import GraphAPI\n",
    "import itertools\n",
    "\n",
    "#collect data from public page in fb and store in mongoDB\n",
    "##the access token should be stored as a string\n",
    "facebook = connection.facebook\n",
    "commen = facebook.comments\n",
    "access = 'xmrZCgDLHfNoLwZC0fwxQdNEZCHhL7VXPKTVCQWStccZATKZAKHMa8YhQZDZD'\n",
    "\n",
    "graph = GraphAPI(access)\n",
    "page_id= 'https://www.facebook.com/rza.cha'\n",
    "datas= graph.get(page_id+'/posts?fields=comments,created_time', page=True, retry=5)"
   ]
  },
  {
   "cell_type": "code",
   "execution_count": null,
   "metadata": {},
   "outputs": [],
   "source": [
    "import json \n",
    "#create data base MDB\n",
    "client = MongoClient('127.0.0.1', 27017)\n",
    "db_name = 'abusive_reviews_comments'\n",
    "# connect to the database\n",
    "db = client[db_name]\n",
    "\n",
    "# Decode the JSON from FB\n",
    "datajson = json.loads(datas)\n",
    "#insert the data into the mongoDB into a collection called abusive_search\n",
    "#if abusive_search doesn't exist, it will be created.\n",
    "db.abusive_search.insert(datajson)"
   ]
  }
 ],
 "metadata": {
  "kernelspec": {
   "display_name": "Python 3",
   "language": "python",
   "name": "python3"
  },
  "language_info": {
   "codemirror_mode": {
    "name": "ipython",
    "version": 3
   },
   "file_extension": ".py",
   "mimetype": "text/x-python",
   "name": "python",
   "nbconvert_exporter": "python",
   "pygments_lexer": "ipython3",
   "version": "3.7.6"
  }
 },
 "nbformat": 4,
 "nbformat_minor": 2
}
